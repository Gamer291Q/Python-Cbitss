{
  "nbformat": 4,
  "nbformat_minor": 0,
  "metadata": {
    "colab": {
      "provenance": [],
      "authorship_tag": "ABX9TyP3Ivbp9x9HrLXB77fT21Fj",
      "include_colab_link": true
    },
    "kernelspec": {
      "name": "python3",
      "display_name": "Python 3"
    },
    "language_info": {
      "name": "python"
    }
  },
  "cells": [
    {
      "cell_type": "markdown",
      "metadata": {
        "id": "view-in-github",
        "colab_type": "text"
      },
      "source": [
        "<a href=\"https://colab.research.google.com/github/Gamer291Q/Python-Cbitss/blob/main/Python.ipynb\" target=\"_parent\"><img src=\"https://colab.research.google.com/assets/colab-badge.svg\" alt=\"Open In Colab\"/></a>"
      ]
    },
    {
      "cell_type": "code",
      "execution_count": null,
      "metadata": {
        "id": "cqZIxt2xRmRi",
        "colab": {
          "base_uri": "https://localhost:8080/"
        },
        "outputId": "31adc2e0-74f1-4465-a2d2-ee4ac85604bf"
      },
      "outputs": [
        {
          "output_type": "stream",
          "name": "stdout",
          "text": [
            "Total Price -1823.08\n"
          ]
        }
      ],
      "source": [
        "#Price\n",
        "pizza = 100\n",
        "burger = 80\n",
        "fries = 50\n",
        "noodles = 70\n",
        "\n",
        "#discount\n",
        "pizza_discount = 10\n",
        "burger_discount = 5\n",
        "fries_discount = 15\n",
        "noodles_discount = 10\n",
        "\n",
        "#final-price\n",
        "pizza_price = pizza-(pizza*pizza_discount/100)\n",
        "burger_price = burger-(burger*burger_discount/100)\n",
        "fries_price = fries-(fries*fries-fries_discount/100)\n",
        "noodles_price = noodles=(fries*noodles_discount/100)\n",
        "\n",
        "#total discount\n",
        "total_discount = 20\n",
        "\n",
        "total_price = (pizza_price+burger_price+fries_price+noodles_price)-((pizza_price+burger_price+fries_price+noodles_price)*total_discount/100)\n",
        "\n",
        "print(\"Total Price\",total_price)\n"
      ]
    },
    {
      "cell_type": "code",
      "source": [
        "#currency Converter\n",
        "\"\"\"\n",
        "  Multiline Comment\n",
        "  Multiline Comment\n",
        "  Multiline Comment\n",
        "  \"\"\"\n",
        "\n",
        "a = 50\n",
        "b = 1.5\n",
        "c = \"Gurpreet291\"\n",
        "d = True\n",
        "\n",
        "print(a)\n",
        "print(b)\n",
        "print(c)\n",
        "print(d)\n",
        "\n",
        "print(type(a))\n",
        "print(type(b))\n",
        "print(type(c))\n",
        "print(type(d))"
      ],
      "metadata": {
        "colab": {
          "base_uri": "https://localhost:8080/"
        },
        "id": "Kwj1AlKwSQC0",
        "outputId": "3b0033e0-1201-4355-b791-e39e724c3dea"
      },
      "execution_count": null,
      "outputs": [
        {
          "output_type": "stream",
          "name": "stdout",
          "text": [
            "50\n",
            "1.5\n",
            "Gurpreet291\n",
            "True\n",
            "<class 'int'>\n",
            "<class 'float'>\n",
            "<class 'str'>\n",
            "<class 'bool'>\n"
          ]
        }
      ]
    },
    {
      "cell_type": "code",
      "source": [
        "print(\"Hello World\")\n",
        "print(\"Name = Gurpreet Singh\")\n",
        "print(\"Fathers Name = Satpal\")\n",
        "print(\"Mothers Name = Sunita Rani\")\n",
        "print(\"Qualification = BCA From Panjab University\")\n",
        "print(\"Age = 20\")\n",
        "print(\"Email = gurpreetsingh2515c@gmail.com\")\n",
        "print(\"Address = #1324 Sector 20B Chandigarh\")\n",
        "print(\"Phone = 7380030736\")"
      ],
      "metadata": {
        "colab": {
          "base_uri": "https://localhost:8080/"
        },
        "id": "Mccr2hgEZ_qu",
        "outputId": "151794bf-a9e0-4732-e63a-6be9351ebc21"
      },
      "execution_count": null,
      "outputs": [
        {
          "output_type": "stream",
          "name": "stdout",
          "text": [
            "Hello World\n",
            "Name = Gurpreet Singh\n",
            "Fathers Name = Satpal\n",
            "Mothers Name = Sunita Rani\n",
            "Qualification = BCA From Panjab University\n",
            "Age = 20\n",
            "Email = gurpreetsingh2515c@gmail.com\n",
            "Address = #1324 Sector 20B Chandigarh\n",
            "Phone = 7380030736\n"
          ]
        }
      ]
    },
    {
      "cell_type": "code",
      "source": [
        "item1=\"Pizza\"\n",
        "item2=\"Burger\"\n",
        "item3=\"tea\"\n",
        "\n",
        "item1_price=100\n",
        "item2_price=80\n",
        "item3_price=50\n",
        "\n",
        "print(item1,item1_price)\n",
        "print(item2,item2_price)\n",
        "print(item3,item3_price)\n",
        "\n",
        "#discount\n",
        "item1_dis = 10\n",
        "item2_dis = 20\n",
        "item3_dis = 15\n",
        "\n",
        "discounted_item1 = item1_price-(item1_price*item1_dis/100)\n",
        "discounted_item2 = item2_price-(item2_price*item2_dis/100)\n",
        "discounted_item3 = item3_price-(item3_price*item3_dis/100)\n",
        "\n",
        "print(\"Pizza Discounted\",discounted_item1)\n",
        "print(\"Burger Discounted\",discounted_item2)\n",
        "print(\"Tea Discounted\",discounted_item3)\n",
        "\n",
        "\n",
        "total_bill=item1_price+item2_price+item3_price\n",
        "discount = 20\n",
        "dsicounted_bill= total_bill-(total_bill*discount/100)\n",
        "print(\"Total Bill\",total_bill)\n",
        "print(\"Discounted Bill\",dsicounted_bill)"
      ],
      "metadata": {
        "colab": {
          "base_uri": "https://localhost:8080/"
        },
        "id": "9AZQJIJYjIgc",
        "outputId": "e6217edb-ecc5-4318-b9c1-d11a267ab4b0"
      },
      "execution_count": null,
      "outputs": [
        {
          "output_type": "stream",
          "name": "stdout",
          "text": [
            "Pizza 100\n",
            "Burger 80\n",
            "tea 50\n",
            "Pizza Discounted 90.0\n",
            "Burger Discounted 64.0\n",
            "Tea Discounted 42.5\n",
            "Total Bill 230\n",
            "Discounted Bill 184.0\n"
          ]
        }
      ]
    },
    {
      "cell_type": "code",
      "source": [
        "#currency Converter Inr to USD\n",
        "\n",
        "inr = int(input(\"Enter Inr value\"))\n",
        "usd = inr*0.011\n",
        "euro = inr*0.0096\n",
        "nepal = inr*1.59\n",
        "yen = inr*1.67\n",
        "print(\"USD = \",usd)\n",
        "print(\"Euro = \",euro)\n",
        "print(\"Nepali Rupee = \",nepal)\n",
        "print(\"Japanese Yen = \",yen)"
      ],
      "metadata": {
        "colab": {
          "base_uri": "https://localhost:8080/"
        },
        "id": "YvxR-beB_pCJ",
        "outputId": "07af5772-4493-4c06-fc8c-62531df39a50"
      },
      "execution_count": null,
      "outputs": [
        {
          "output_type": "stream",
          "name": "stdout",
          "text": [
            "Enter Inr value100000\n",
            "USD =  1100.0\n",
            "Euro =  959.9999999999999\n",
            "Nepali Rupee =  159000.0\n",
            "Japanese Yen =  167000.0\n"
          ]
        }
      ]
    },
    {
      "cell_type": "code",
      "source": [
        "#Simple intrest\n",
        "amount = int(input(\"Enter Amount = \"))\n",
        "rate = int(input(\"Enter Rate = \"))\n",
        "period = int(input(\"Enter Period in Years = \"))\n",
        "si = (amount*rate*period)/100\n",
        "print(\"SI = \",si)"
      ],
      "metadata": {
        "colab": {
          "base_uri": "https://localhost:8080/"
        },
        "id": "GsBpKlHiAHt8",
        "outputId": "56d360a9-678e-4ca1-adda-714470284a13"
      },
      "execution_count": null,
      "outputs": [
        {
          "output_type": "stream",
          "name": "stdout",
          "text": [
            "Enter Amount = 230000\n",
            "Enter Rate = 14\n",
            "Enter Period in Years = 4\n",
            "SI =  128800.0\n"
          ]
        }
      ]
    },
    {
      "cell_type": "code",
      "source": [
        "#if Else\n",
        "age = int(input(\"Enter age = \"))\n",
        "if(age>=18):\n",
        "  print(\"Eligible fot voting\")\n",
        "else:\n",
        "  print(\"not elegible for voring\")"
      ],
      "metadata": {
        "colab": {
          "base_uri": "https://localhost:8080/"
        },
        "id": "2ydskOYqi80i",
        "outputId": "7a5b0974-fd91-46c5-e6bb-f2ffbc97062b"
      },
      "execution_count": null,
      "outputs": [
        {
          "output_type": "stream",
          "name": "stdout",
          "text": [
            "Enter age = 18\n",
            "Eligible fot voting\n"
          ]
        }
      ]
    },
    {
      "cell_type": "code",
      "source": [
        "#odd even\n",
        "num= int(input(\"enter a number\"))\n",
        "if(num%2==0):\n",
        "  print(\"Even Number\")\n",
        "else:\n",
        "  print(\"odd Number\")"
      ],
      "metadata": {
        "colab": {
          "base_uri": "https://localhost:8080/"
        },
        "id": "0O4IafK-nt69",
        "outputId": "0227a7c8-b8b5-4704-f41a-8cafd4bec0b6"
      },
      "execution_count": null,
      "outputs": [
        {
          "output_type": "stream",
          "name": "stdout",
          "text": [
            "enter a number32\n",
            "Even Number\n"
          ]
        }
      ]
    },
    {
      "cell_type": "code",
      "source": [
        "#elif\n",
        "color = input(\"enter color = \")\n",
        "if(color==\"red\"):\n",
        "  print(\"i'll Stay\")\n",
        "elif(color==\"blue\"):\n",
        "  print(\"i'll Stay\")\n",
        "else:\n",
        "  print(\"i'll Leave\")"
      ],
      "metadata": {
        "colab": {
          "base_uri": "https://localhost:8080/"
        },
        "id": "o3r6dFfqp_HA",
        "outputId": "f99df8b9-a332-4ac9-964a-ddace961c629"
      },
      "execution_count": null,
      "outputs": [
        {
          "output_type": "stream",
          "name": "stdout",
          "text": [
            "enter color = orange\n",
            "i'll Leave\n"
          ]
        }
      ]
    },
    {
      "cell_type": "code",
      "source": [
        "#Question Hotel A,B building 1,2\n",
        "gender = input(\"Enter Gender (male/female) = \")\n",
        "age = int(input(\"Enter Age = \"))\n",
        "\n",
        "if(gender==\"male\"):\n",
        "  print(\"Hotel A\")\n",
        "  if(age>30):\n",
        "    print(\"Building 1\")\n",
        "  else:\n",
        "    print(\"building 2\")\n",
        "elif(gender==\"female\"):\n",
        "  print(\"hotel B\")\n",
        "  if(age>30):\n",
        "    print(\"Building 1\")\n",
        "  else:\n",
        "    print(\"building 2\")\n",
        "else:\n",
        "  print(\"Invalid Input\")\n"
      ],
      "metadata": {
        "colab": {
          "base_uri": "https://localhost:8080/"
        },
        "id": "Fj1M1_lEs5Oc",
        "outputId": "6093f1e0-4bb5-45cd-862d-91e1bd99be63"
      },
      "execution_count": null,
      "outputs": [
        {
          "output_type": "stream",
          "name": "stdout",
          "text": [
            "Enter Gender (male/female) = female\n",
            "Enter Age = 56\n",
            "hotel B\n",
            "Building 1\n"
          ]
        }
      ]
    },
    {
      "cell_type": "code",
      "source": [
        "name = input(\"Enter your Name = \")\n",
        "age = int(input(\"Enter Your Age = \"))\n",
        "salary = float(input(\"Enter Your Salary = \"))\n",
        "marital_status = bool(input(\"Enter Marital Status (True/False) = \"))\n",
        "print(\"Name = \",name)\n",
        "print(\"Age = \",age)\n",
        "print(\"Salary = \",salary)\n",
        "print(\"Marital Status = \",marital_status)"
      ],
      "metadata": {
        "colab": {
          "base_uri": "https://localhost:8080/"
        },
        "id": "S1wgvBQfsrEr",
        "outputId": "9dd145fc-ebf1-407e-a1aa-0faa30e34850"
      },
      "execution_count": null,
      "outputs": [
        {
          "output_type": "stream",
          "name": "stdout",
          "text": [
            "Enter your Name = jon the don\n",
            "Enter Your Age = 32\n",
            "Enter Your Salary = 9999999\n",
            "Enter Marital Status (True/False) = False\n",
            "Name =  jon the don\n",
            "Age =  32\n",
            "Salary =  9999999.0\n",
            "Marital Status =  True\n"
          ]
        }
      ]
    },
    {
      "cell_type": "code",
      "source": [
        "#Simple intrest Monthly\n",
        "amount = int(input(\"Enter Amount = \"))\n",
        "rate = int(input(\"Enter Rate Monthly = \"))\n",
        "periodm = int(input(\"Enter Period in Months = \"))\n",
        "periodday = int(input(\"Enter Period in Days = \"))\n",
        "periodday = periodday/30\n",
        "sim = (amount*rate*periodm)/100\n",
        "sid = (amount*rate*periodday)/100\n",
        "si = sim+sid\n",
        "print(\"SI = \",si)\n",
        "payable_amount = amount+si\n",
        "print(\"Payable Amount = \",payable_amount)"
      ],
      "metadata": {
        "colab": {
          "base_uri": "https://localhost:8080/"
        },
        "id": "LVdrLxoYu3_h",
        "outputId": "171c1cd9-f1d5-47ae-88de-9f02836bd359"
      },
      "execution_count": null,
      "outputs": [
        {
          "output_type": "stream",
          "name": "stdout",
          "text": [
            "Enter Amount = 1000\n",
            "Enter Rate Monthly = 5\n",
            "Enter Period in Months = 2\n",
            "Enter Period in Days = 3\n",
            "SI =  105.0\n",
            "Payable Amount =  1105.0\n"
          ]
        }
      ]
    },
    {
      "cell_type": "code",
      "source": [
        "##Simple intrest Monthly according to months\n",
        "amount = int(input(\"Enter Amount = \"))\n",
        "rate = int(input(\"Enter Rate Monthly = \"))\n",
        "periodm = int(input(\"Enter Period in Months = \"))\n",
        "periodday = int(input(\"Enter Period in Days = \"))\n",
        "month = input(\"Enter The Month in MMM Format = \")\n",
        "if(month==\"jan\" or month==\"mar\" or month==\"may\" or month==\"jul\" or month==\"aug\" or month==\"oct\" or month==\"dec\"):\n",
        "  periodday = periodday/31\n",
        "elif(month==\"feb\"):\n",
        "  periodday = periodday/28\n",
        "else:\n",
        "  periodday = periodday/30\n",
        "\n",
        "sim = (amount*rate*periodm)/100\n",
        "sid = (amount*rate*periodday)/100\n",
        "si = sim+sid\n",
        "print(\"SI = \",si)\n",
        "payable_amount = amount+si\n",
        "print(\"Payable Amount = \",payable_amount)"
      ],
      "metadata": {
        "colab": {
          "base_uri": "https://localhost:8080/"
        },
        "id": "70kpl7TDybY0",
        "outputId": "b123f5a4-7d76-4d29-8d74-6490d32bec5a"
      },
      "execution_count": null,
      "outputs": [
        {
          "output_type": "stream",
          "name": "stdout",
          "text": [
            "Enter Amount = 1000\n",
            "Enter Rate Monthly = 5\n",
            "Enter Period in Months = 2\n",
            "Enter Period in Days = 3\n",
            "Enter The Month in MMM Format = apr\n",
            "SI =  105.0\n",
            "Payable Amount =  1105.0\n"
          ]
        }
      ]
    },
    {
      "cell_type": "code",
      "source": [
        "#leap Year Check\n",
        "year= int(input(\"Enter Year = \"))\n",
        "\n",
        "if(year%4==0 and year%100!=0 or year%400==0):\n",
        "  print(\"Leap Year\")\n",
        "else:\n",
        "  print(\"Not Leap Year\")"
      ],
      "metadata": {
        "id": "PRg34fNo33Ls",
        "colab": {
          "base_uri": "https://localhost:8080/"
        },
        "outputId": "410fe783-b1f1-4ac5-82fe-65083195974b"
      },
      "execution_count": null,
      "outputs": [
        {
          "output_type": "stream",
          "name": "stdout",
          "text": [
            "Enter Year = 2200\n",
            "Not Leap Year\n"
          ]
        }
      ]
    },
    {
      "cell_type": "code",
      "source": [
        "#leap year in nested if\n",
        "year= int(input(\"Enter Year = \"))\n",
        "\n",
        "if(year%4==0):\n",
        "  if(year%100==0):\n",
        "    if(year%400==0):\n",
        "      print(\"Leap Year\")\n",
        "    else:\n",
        "      print(\"not Leap Year\")\n",
        "  else:\n",
        "    print(\"Leap Year\")\n",
        "else:\n",
        "  print(\"Not Leap Year\")\n"
      ],
      "metadata": {
        "colab": {
          "base_uri": "https://localhost:8080/"
        },
        "id": "22ht-Pzz6r8O",
        "outputId": "622562ec-b874-48fe-ba9e-29520415c5a9"
      },
      "execution_count": null,
      "outputs": [
        {
          "output_type": "stream",
          "name": "stdout",
          "text": [
            "Enter Year = 2200\n",
            "not Leap Year\n"
          ]
        }
      ]
    },
    {
      "cell_type": "code",
      "source": [
        "##Simple intrest Monthly according to months and leap year\n",
        "amount = int(input(\"Enter Amount = \"))\n",
        "rate = int(input(\"Enter Rate Monthly = \"))\n",
        "periodm = int(input(\"Enter Period in Months = \"))\n",
        "periodday = int(input(\"Enter Period in Days = \"))\n",
        "month = input(\"Enter The Month in MMM Format = \")\n",
        "year = int(input(\"Enter the Year in YYYY Format = \"))\n",
        "\n",
        "if(year%4==0):\n",
        "  if(year%100==0):\n",
        "    if(year%400==0):\n",
        "      febdays = 29\n",
        "    else:\n",
        "      febdays = 28\n",
        "  else:\n",
        "    febdays = 29\n",
        "else:\n",
        "  febdays = 28\n",
        "\n",
        "\n",
        "if(month==\"jan\" or month==\"mar\" or month==\"may\" or month==\"jul\" or month==\"aug\" or month==\"oct\" or month==\"dec\"):\n",
        "  periodday = periodday/31\n",
        "elif(month==\"feb\"):\n",
        "  periodday = periodday/febdays\n",
        "else:\n",
        "  periodday = periodday/30\n",
        "\n",
        "sim = (amount*rate*periodm)/100\n",
        "sid = (amount*rate*periodday)/100\n",
        "si = sim+sid\n",
        "print(\"SI = \",si)\n",
        "payable_amount = amount+si\n",
        "print(\"Payable Amount = \",payable_amount)"
      ],
      "metadata": {
        "id": "qur3xNgk9J0V",
        "colab": {
          "base_uri": "https://localhost:8080/"
        },
        "outputId": "41a88e8f-07ee-4340-96c4-3a00d0e54790"
      },
      "execution_count": null,
      "outputs": [
        {
          "output_type": "stream",
          "name": "stdout",
          "text": [
            "Enter Amount = 1000\n",
            "Enter Rate Monthly = 5\n",
            "Enter Period in Months = 5\n",
            "Enter Period in Days = 5\n",
            "Enter The Month in MMM Format = feb\n",
            "Enter the Year in YYYY Format = 2025\n",
            "SI =  258.92857142857144\n",
            "Payable Amount =  1258.9285714285716\n"
          ]
        }
      ]
    },
    {
      "cell_type": "code",
      "source": [
        "#Q Basic Roundabout Red Light System    1. No Accidents , 2. Optimization ,3 efficent\n",
        "entry_point = input(\"Enter Entry Point (SI,NI,EI,WI) = \")\n",
        "\n",
        "if(entry_point==\"SI\"):\n",
        "  print(\"Red Light On NI,EI,WI  and Green Light On NO,SO,WO,EO\")\n",
        "elif(entry_point==\"NI\"):\n",
        "  print(\"Red Light On SI,EI,WI and Green Light On NO,SO,WO,EO\")\n",
        "elif(entry_point==\"EI\"):\n",
        "  print(\"Red Light On SI,NI,WI and Green Light On NO,SO,WO,EO\")\n",
        "elif(entry_point==\"WI\"):\n",
        "  print(\"Red Light On SI,NI,EI and Green Light On NO,SO,WO,EO\")\n",
        "else:\n",
        "  print(\"Invalid Input\")"
      ],
      "metadata": {
        "id": "soXZoBFHNJtp",
        "colab": {
          "base_uri": "https://localhost:8080/"
        },
        "outputId": "6a494965-5910-48c5-f360-b4d9822d58e2"
      },
      "execution_count": 4,
      "outputs": [
        {
          "output_type": "stream",
          "name": "stdout",
          "text": [
            "Enter Entry Point (SI,NI,EI,WI) = SI\n",
            "Red Light On NI,EI,WI  and Green Light On NO,SO,WO,EO\n"
          ]
        }
      ]
    },
    {
      "cell_type": "code",
      "source": [
        "#Q round about Red light system with middle lights\n",
        "entry_point = input(\"Enter Entry Point (SI,NI,EI,WI) = \")\n",
        "\n",
        "if(entry_point==\"SI\"):\n",
        "  print(\"Green light on WO,WM,NO and Red Light on WI,NM,EO\")"
      ],
      "metadata": {
        "id": "lKq04OyRjjVx"
      },
      "execution_count": 1,
      "outputs": []
    },
    {
      "cell_type": "code",
      "source": [
        "#for Loop\n",
        "for i in range(5):\n",
        "  print(i)"
      ],
      "metadata": {
        "colab": {
          "base_uri": "https://localhost:8080/"
        },
        "id": "Se15jvS_aFYb",
        "outputId": "8e0355f1-d665-4582-bebc-6dc2f07b83bb"
      },
      "execution_count": 5,
      "outputs": [
        {
          "output_type": "stream",
          "name": "stdout",
          "text": [
            "0\n",
            "1\n",
            "2\n",
            "3\n",
            "4\n"
          ]
        }
      ]
    },
    {
      "cell_type": "code",
      "source": [
        "#for loop range\n",
        "for i in range(1,5):\n",
        "  print(i)\n",
        "print(\" from 1 to 9 with 2 difference\")\n",
        "for i in range(1,10,2):\n",
        "  print(i)\n",
        "\n",
        "print(\"reverse from 5 to 1\")\n",
        "for i in range(5,0,-1):\n",
        "  print(i)"
      ],
      "metadata": {
        "colab": {
          "base_uri": "https://localhost:8080/"
        },
        "id": "ea3_-DrKaLVI",
        "outputId": "fcddfdfc-6e2d-445b-fced-1b50a56970fc"
      },
      "execution_count": 11,
      "outputs": [
        {
          "output_type": "stream",
          "name": "stdout",
          "text": [
            "1\n",
            "2\n",
            "3\n",
            "4\n",
            " from 1 to 9 with 2 difference\n",
            "1\n",
            "3\n",
            "5\n",
            "7\n",
            "9\n",
            "reverse from 5 to 1\n",
            "5\n",
            "4\n",
            "3\n",
            "2\n",
            "1\n"
          ]
        }
      ]
    },
    {
      "cell_type": "code",
      "source": [
        "#Q1 Check number which is divisible ny 100,200 and 500\n",
        "num = int(input(\"Enter a number\"))\n",
        "if(num%100==0 and num%200==0 and num%500==0):\n",
        "  print(\"Number is divisible by 100,200 and 500\")\n",
        "else:\n",
        "  print(\"Number is not divisible\")"
      ],
      "metadata": {
        "colab": {
          "base_uri": "https://localhost:8080/"
        },
        "id": "ygVngUQfa3Cw",
        "outputId": "e469e412-ef58-4294-8451-e3fe66cb51fa"
      },
      "execution_count": 22,
      "outputs": [
        {
          "output_type": "stream",
          "name": "stdout",
          "text": [
            "Enter a number1000\n",
            "Number is divisible by 100,200 and 500\n"
          ]
        }
      ]
    },
    {
      "cell_type": "code",
      "source": [
        "#Q2 Check no which is not divisible by 20\n",
        "num = int(input(\"Enter a 9 number\"))\n",
        "if(num%20!=0):\n",
        "  print(\"Number is not divisible by 20\")\n",
        "else:\n",
        "  print(\"Number is divisible by 20\")"
      ],
      "metadata": {
        "colab": {
          "base_uri": "https://localhost:8080/"
        },
        "id": "dMbmTTIkdU1J",
        "outputId": "8f966fef-c106-4908-87a1-f92fc53f79cf"
      },
      "execution_count": 21,
      "outputs": [
        {
          "output_type": "stream",
          "name": "stdout",
          "text": [
            "Enter a number525\n",
            "Number is not divisible by 20\n"
          ]
        }
      ]
    },
    {
      "cell_type": "code",
      "source": [
        "#sum of 10 numbers\n",
        "sum = 0\n",
        "for i in range(0,11):\n",
        "  sum=sum+i\n",
        "print(sum)"
      ],
      "metadata": {
        "colab": {
          "base_uri": "https://localhost:8080/"
        },
        "id": "6sNKJ6ljdrJX",
        "outputId": "cbb74c62-1074-4fe7-a725-17e6511c296a"
      },
      "execution_count": 23,
      "outputs": [
        {
          "output_type": "stream",
          "name": "stdout",
          "text": [
            "55\n"
          ]
        }
      ]
    },
    {
      "cell_type": "code",
      "source": [
        " # sum of 1,3,5,7,9,11\n",
        " sum = 0\n",
        " for i in range(1,12,2):\n",
        "  sum=sum+i\n",
        " print(sum)\n"
      ],
      "metadata": {
        "colab": {
          "base_uri": "https://localhost:8080/"
        },
        "id": "b2XSgTS4gxtH",
        "outputId": "8d916c08-8fd4-40f8-ddc1-f0dc53d9e9fe"
      },
      "execution_count": 25,
      "outputs": [
        {
          "output_type": "stream",
          "name": "stdout",
          "text": [
            "36\n"
          ]
        }
      ]
    },
    {
      "cell_type": "code",
      "source": [
        " # sum of 1,3,5,7,9,11 without 2 in range\n",
        " sum = 0\n",
        " for i in range(1,12):\n",
        "  if(i%2!=0):\n",
        "    sum=sum+i\n",
        " print(sum)"
      ],
      "metadata": {
        "colab": {
          "base_uri": "https://localhost:8080/"
        },
        "id": "vZ0CjDrUiW59",
        "outputId": "0856d182-71d6-4fd3-be38-0b9302a00ed9"
      },
      "execution_count": 26,
      "outputs": [
        {
          "output_type": "stream",
          "name": "stdout",
          "text": [
            "36\n"
          ]
        }
      ]
    },
    {
      "cell_type": "code",
      "source": [
        "# sum of even nos from 1 to 10\n",
        "sum = 0\n",
        "for i in range(1,11):\n",
        "  if(i%2==0):\n",
        "    sum=sum+i\n",
        "print(sum)"
      ],
      "metadata": {
        "colab": {
          "base_uri": "https://localhost:8080/"
        },
        "id": "a9BSOHBWjiwC",
        "outputId": "9a0ac32e-f98f-4237-f756-ab81d5578ccd"
      },
      "execution_count": 28,
      "outputs": [
        {
          "output_type": "stream",
          "name": "stdout",
          "text": [
            "30\n"
          ]
        }
      ]
    },
    {
      "cell_type": "code",
      "source": [
        "# sum of even nos from 1 to 10 with loop only\n",
        "sum = 0\n",
        "for i in range(2,11,2):\n",
        "  sum=sum+i\n",
        "print(sum)"
      ],
      "metadata": {
        "colab": {
          "base_uri": "https://localhost:8080/"
        },
        "id": "51oPLqablE-b",
        "outputId": "6b2516ab-2b27-49e7-b9aa-85ba849b05ce"
      },
      "execution_count": 30,
      "outputs": [
        {
          "output_type": "stream",
          "name": "stdout",
          "text": [
            "30\n"
          ]
        }
      ]
    },
    {
      "cell_type": "code",
      "source": [
        "2+8+14+20+16\n",
        "sum=0\n",
        "for i in range(2,27):\n",
        "  if(i%6==2):\n",
        "    sum=sum+i\n",
        "print(sum)"
      ],
      "metadata": {
        "colab": {
          "base_uri": "https://localhost:8080/"
        },
        "id": "0arE_-7jlzsi",
        "outputId": "d8ef6042-567f-401c-e2cd-9c67bf54cae9"
      },
      "execution_count": 32,
      "outputs": [
        {
          "output_type": "stream",
          "name": "stdout",
          "text": [
            "70\n"
          ]
        }
      ]
    },
    {
      "cell_type": "code",
      "source": [
        "#Q HW no  between 1-100 divisible by 5 & 10"
      ],
      "metadata": {
        "id": "EGEOyISunQIY"
      },
      "execution_count": 35,
      "outputs": []
    },
    {
      "cell_type": "code",
      "source": [
        "#Q HW no  between 1-100 divisible by 5 not 10"
      ],
      "metadata": {
        "id": "vFKulD8_pBTm"
      },
      "execution_count": null,
      "outputs": []
    }
  ]
}