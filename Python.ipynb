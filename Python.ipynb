{
  "nbformat": 4,
  "nbformat_minor": 0,
  "metadata": {
    "colab": {
      "provenance": [],
      "authorship_tag": "ABX9TyPFk/q7A7Rd06ChOy3X2n8i",
      "include_colab_link": true
    },
    "kernelspec": {
      "name": "python3",
      "display_name": "Python 3"
    },
    "language_info": {
      "name": "python"
    }
  },
  "cells": [
    {
      "cell_type": "markdown",
      "metadata": {
        "id": "view-in-github",
        "colab_type": "text"
      },
      "source": [
        "<a href=\"https://colab.research.google.com/github/Gamer291Q/Python-Cbitss/blob/main/Python.ipynb\" target=\"_parent\"><img src=\"https://colab.research.google.com/assets/colab-badge.svg\" alt=\"Open In Colab\"/></a>"
      ]
    },
    {
      "cell_type": "code",
      "execution_count": null,
      "metadata": {
        "id": "cqZIxt2xRmRi",
        "colab": {
          "base_uri": "https://localhost:8080/"
        },
        "outputId": "31adc2e0-74f1-4465-a2d2-ee4ac85604bf"
      },
      "outputs": [
        {
          "output_type": "stream",
          "name": "stdout",
          "text": [
            "Total Price -1823.08\n"
          ]
        }
      ],
      "source": [
        "#Price\n",
        "pizza = 100\n",
        "burger = 80\n",
        "fries = 50\n",
        "noodles = 70\n",
        "\n",
        "#discount\n",
        "pizza_discount = 10\n",
        "burger_discount = 5\n",
        "fries_discount = 15\n",
        "noodles_discount = 10\n",
        "\n",
        "#final-price\n",
        "pizza_price = pizza-(pizza*pizza_discount/100)\n",
        "burger_price = burger-(burger*burger_discount/100)\n",
        "fries_price = fries-(fries*fries-fries_discount/100)\n",
        "noodles_price = noodles=(fries*noodles_discount/100)\n",
        "\n",
        "#total discount\n",
        "total_discount = 20\n",
        "\n",
        "total_price = (pizza_price+burger_price+fries_price+noodles_price)-((pizza_price+burger_price+fries_price+noodles_price)*total_discount/100)\n",
        "\n",
        "print(\"Total Price\",total_price)\n"
      ]
    },
    {
      "cell_type": "code",
      "source": [
        "#currency Converter\n",
        "\"\"\"\n",
        "  Multiline Comment\n",
        "  Multiline Comment\n",
        "  Multiline Comment\n",
        "  \"\"\"\n",
        "\n",
        "a = 50\n",
        "b = 1.5\n",
        "c = \"Gurpreet291\"\n",
        "d = True\n",
        "\n",
        "print(a)\n",
        "print(b)\n",
        "print(c)\n",
        "print(d)\n",
        "\n",
        "print(type(a))\n",
        "print(type(b))\n",
        "print(type(c))\n",
        "print(type(d))"
      ],
      "metadata": {
        "colab": {
          "base_uri": "https://localhost:8080/"
        },
        "id": "Kwj1AlKwSQC0",
        "outputId": "3b0033e0-1201-4355-b791-e39e724c3dea"
      },
      "execution_count": null,
      "outputs": [
        {
          "output_type": "stream",
          "name": "stdout",
          "text": [
            "50\n",
            "1.5\n",
            "Gurpreet291\n",
            "True\n",
            "<class 'int'>\n",
            "<class 'float'>\n",
            "<class 'str'>\n",
            "<class 'bool'>\n"
          ]
        }
      ]
    },
    {
      "cell_type": "code",
      "source": [
        "print(\"Hello World\")\n",
        "print(\"Name = Gurpreet Singh\")\n",
        "print(\"Fathers Name = Satpal\")\n",
        "print(\"Mothers Name = Sunita Rani\")\n",
        "print(\"Qualification = BCA From Panjab University\")\n",
        "print(\"Age = 20\")\n",
        "print(\"Email = gurpreetsingh2515c@gmail.com\")\n",
        "print(\"Address = #1324 Sector 20B Chandigarh\")\n",
        "print(\"Phone = 7380030736\")"
      ],
      "metadata": {
        "colab": {
          "base_uri": "https://localhost:8080/"
        },
        "id": "Mccr2hgEZ_qu",
        "outputId": "151794bf-a9e0-4732-e63a-6be9351ebc21"
      },
      "execution_count": null,
      "outputs": [
        {
          "output_type": "stream",
          "name": "stdout",
          "text": [
            "Hello World\n",
            "Name = Gurpreet Singh\n",
            "Fathers Name = Satpal\n",
            "Mothers Name = Sunita Rani\n",
            "Qualification = BCA From Panjab University\n",
            "Age = 20\n",
            "Email = gurpreetsingh2515c@gmail.com\n",
            "Address = #1324 Sector 20B Chandigarh\n",
            "Phone = 7380030736\n"
          ]
        }
      ]
    },
    {
      "cell_type": "code",
      "source": [
        "item1=\"Pizza\"\n",
        "item2=\"Burger\"\n",
        "item3=\"tea\"\n",
        "\n",
        "item1_price=100\n",
        "item2_price=80\n",
        "item3_price=50\n",
        "\n",
        "print(item1,item1_price)\n",
        "print(item2,item2_price)\n",
        "print(item3,item3_price)\n",
        "\n",
        "#discount\n",
        "item1_dis = 10\n",
        "item2_dis = 20\n",
        "item3_dis = 15\n",
        "\n",
        "discounted_item1 = item1_price-(item1_price*item1_dis/100)\n",
        "discounted_item2 = item2_price-(item2_price*item2_dis/100)\n",
        "discounted_item3 = item3_price-(item3_price*item3_dis/100)\n",
        "\n",
        "print(\"Pizza Discounted\",discounted_item1)\n",
        "print(\"Burger Discounted\",discounted_item2)\n",
        "print(\"Tea Discounted\",discounted_item3)\n",
        "\n",
        "\n",
        "total_bill=item1_price+item2_price+item3_price\n",
        "discount = 20\n",
        "dsicounted_bill= total_bill-(total_bill*discount/100)\n",
        "print(\"Total Bill\",total_bill)\n",
        "print(\"Discounted Bill\",dsicounted_bill)"
      ],
      "metadata": {
        "colab": {
          "base_uri": "https://localhost:8080/"
        },
        "id": "9AZQJIJYjIgc",
        "outputId": "e6217edb-ecc5-4318-b9c1-d11a267ab4b0"
      },
      "execution_count": 1,
      "outputs": [
        {
          "output_type": "stream",
          "name": "stdout",
          "text": [
            "Pizza 100\n",
            "Burger 80\n",
            "tea 50\n",
            "Pizza Discounted 90.0\n",
            "Burger Discounted 64.0\n",
            "Tea Discounted 42.5\n",
            "Total Bill 230\n",
            "Discounted Bill 184.0\n"
          ]
        }
      ]
    },
    {
      "cell_type": "code",
      "source": [
        "#currency Converter Inr to USD\n",
        "\n",
        "inr = int(input(\"Enter value\"))\n",
        "usd = inr*0.011\n",
        "euro = inr*0.0096\n",
        "nepal = inr*1.59\n",
        "yen = inr*1.67\n",
        "print(\"USD = \",usd)\n",
        "print(\"Euro = \",euro)\n",
        "print(\"Nepali Rupee = \",nepal)\n",
        "print(\"Japanese Yen = \",yen)"
      ],
      "metadata": {
        "colab": {
          "base_uri": "https://localhost:8080/"
        },
        "id": "YvxR-beB_pCJ",
        "outputId": "d1c51ea9-028a-414e-e156-b0bc453dda26"
      },
      "execution_count": 6,
      "outputs": [
        {
          "output_type": "stream",
          "name": "stdout",
          "text": [
            "Enter value125000\n",
            "USD =  1375.0\n",
            "Euro =  1200.0\n",
            "Nepali Rupee =  198750.0\n",
            "Japanese Yen =  208750.0\n"
          ]
        }
      ]
    },
    {
      "cell_type": "code",
      "source": [],
      "metadata": {
        "id": "GsBpKlHiAHt8"
      },
      "execution_count": null,
      "outputs": []
    }
  ]
}