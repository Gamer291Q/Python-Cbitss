{
  "nbformat": 4,
  "nbformat_minor": 0,
  "metadata": {
    "colab": {
      "provenance": [],
      "authorship_tag": "ABX9TyNvqt8MA1pSH2vZn50lFZht",
      "include_colab_link": true
    },
    "kernelspec": {
      "name": "python3",
      "display_name": "Python 3"
    },
    "language_info": {
      "name": "python"
    }
  },
  "cells": [
    {
      "cell_type": "markdown",
      "metadata": {
        "id": "view-in-github",
        "colab_type": "text"
      },
      "source": [
        "<a href=\"https://colab.research.google.com/github/Gamer291Q/Python-Cbitss/blob/main/Python.ipynb\" target=\"_parent\"><img src=\"https://colab.research.google.com/assets/colab-badge.svg\" alt=\"Open In Colab\"/></a>"
      ]
    },
    {
      "cell_type": "code",
      "execution_count": 3,
      "metadata": {
        "id": "cqZIxt2xRmRi",
        "colab": {
          "base_uri": "https://localhost:8080/"
        },
        "outputId": "31adc2e0-74f1-4465-a2d2-ee4ac85604bf"
      },
      "outputs": [
        {
          "output_type": "stream",
          "name": "stdout",
          "text": [
            "Total Price -1823.08\n"
          ]
        }
      ],
      "source": [
        "#Price\n",
        "pizza = 100\n",
        "burger = 80\n",
        "fries = 50\n",
        "noodles = 70\n",
        "\n",
        "#discount\n",
        "pizza_discount = 10\n",
        "burger_discount = 5\n",
        "fries_discount = 15\n",
        "noodles_discount = 10\n",
        "\n",
        "#final-price\n",
        "pizza_price = pizza-(pizza*pizza_discount/100)\n",
        "burger_price = burger-(burger*burger_discount/100)\n",
        "fries_price = fries-(fries*fries-fries_discount/100)\n",
        "noodles_price = noodles=(fries*noodles_discount/100)\n",
        "\n",
        "#total discount\n",
        "total_discount = 20\n",
        "\n",
        "total_price = (pizza_price+burger_price+fries_price+noodles_price)-((pizza_price+burger_price+fries_price+noodles_price)*total_discount/100)\n",
        "\n",
        "print(\"Total Price\",total_price)\n"
      ]
    },
    {
      "cell_type": "code",
      "source": [],
      "metadata": {
        "id": "Kwj1AlKwSQC0"
      },
      "execution_count": null,
      "outputs": []
    }
  ]
}